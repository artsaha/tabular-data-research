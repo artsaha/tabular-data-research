{
 "cells": [
  {
   "cell_type": "code",
   "id": "initial_id",
   "metadata": {
    "collapsed": true,
    "ExecuteTime": {
     "end_time": "2025-01-27T19:43:03.206475Z",
     "start_time": "2025-01-27T19:43:03.190839Z"
    }
   },
   "source": [
    "import pandas as pd\n",
    "import torch\n",
    "import torch.nn as nn\n",
    "import torch.optim as optim\n",
    "from torch.utils.data import DataLoader, TensorDataset\n",
    "from sklearn.preprocessing import MinMaxScaler, OneHotEncoder\n",
    "from sklearn.model_selection import train_test_split\n",
    "from sklearn.datasets import fetch_openml\n",
    "from categoricalGAN import Generator, Discriminator\n"
   ],
   "outputs": [],
   "execution_count": 12
  },
  {
   "metadata": {
    "ExecuteTime": {
     "end_time": "2025-01-27T19:43:04.839539Z",
     "start_time": "2025-01-27T19:43:04.719976Z"
    }
   },
   "cell_type": "code",
   "source": [
    "# Load the Adult Income dataset\n",
    "data = fetch_openml(name='adult', version=2, as_frame=True)\n",
    "df = data.frame\n",
    "\n",
    "X = df.drop(columns=['class'])\n",
    "y = df['class']"
   ],
   "id": "8340e054865adc8a",
   "outputs": [],
   "execution_count": 13
  },
  {
   "metadata": {
    "ExecuteTime": {
     "end_time": "2025-01-27T19:30:25.903188Z",
     "start_time": "2025-01-27T19:30:25.881171Z"
    }
   },
   "cell_type": "code",
   "source": [
    "#  categorical and numeric columns\n",
    "cat_columns = X.select_dtypes(include='category').columns\n",
    "num_columns = X.select_dtypes(include='number').columns\n"
   ],
   "id": "2197f47e378ed067",
   "outputs": [],
   "execution_count": 3
  },
  {
   "metadata": {
    "ExecuteTime": {
     "end_time": "2025-01-27T19:30:47.840562Z",
     "start_time": "2025-01-27T19:30:47.754007Z"
    }
   },
   "cell_type": "code",
   "source": [
    "# One-hot encode categorical variables\n",
    "ohe = OneHotEncoder(sparse_output=False, handle_unknown='ignore')\n",
    "cat_data = ohe.fit_transform(X[cat_columns])"
   ],
   "id": "e596f9ba58419910",
   "outputs": [],
   "execution_count": 4
  },
  {
   "metadata": {
    "ExecuteTime": {
     "end_time": "2025-01-27T19:30:57.701723Z",
     "start_time": "2025-01-27T19:30:57.674721Z"
    }
   },
   "cell_type": "code",
   "source": [
    "scaler = MinMaxScaler()\n",
    "num_data = scaler.fit_transform(X[num_columns])"
   ],
   "id": "497f783025db0b8",
   "outputs": [],
   "execution_count": 5
  },
  {
   "metadata": {
    "ExecuteTime": {
     "end_time": "2025-01-27T19:37:14.504253Z",
     "start_time": "2025-01-27T19:37:14.406976Z"
    }
   },
   "cell_type": "code",
   "source": [
    "# Assign unique column names for categorical and numeric features\n",
    "cat_columns_expanded = [f\"{col}_{i}\" for col, n_vals in zip(cat_columns, ohe.categories_) for i in range(len(n_vals))]\n",
    "num_columns_expanded = list(num_columns)\n",
    "\n",
    "# Convert processed data into DataFrames\n",
    "cat_df = pd.DataFrame(cat_data, columns=cat_columns_expanded)\n",
    "num_df = pd.DataFrame(num_data, columns=num_columns_expanded)\n",
    "\n",
    "processed_data = torch.tensor(\n",
    "    pd.concat([cat_df, num_df], axis=1).values,\n",
    "    dtype=torch.float32\n",
    ")\n"
   ],
   "id": "ff425075a17f4620",
   "outputs": [],
   "execution_count": 7
  },
  {
   "metadata": {
    "ExecuteTime": {
     "end_time": "2025-01-27T19:37:17.915253Z",
     "start_time": "2025-01-27T19:37:16.170960Z"
    }
   },
   "cell_type": "code",
   "source": [
    "\n",
    "# GAN Training Parameters\n",
    "device = torch.device('cuda' if torch.cuda.is_available() else 'cpu')\n",
    "latent_dim = 64  # Latent space dimensionality\n",
    "data_dim = processed_data.shape[1]  # Number of features\n",
    "batch_size = 64\n",
    "epochs = 3\n",
    "lr = 0.0002\n",
    "\n",
    "# Create DataLoader\n",
    "data_loader = DataLoader(TensorDataset(processed_data), batch_size=batch_size, shuffle=True)"
   ],
   "id": "4a25a21758bbcdd4",
   "outputs": [],
   "execution_count": 8
  },
  {
   "metadata": {
    "ExecuteTime": {
     "end_time": "2025-01-27T19:43:09.328925Z",
     "start_time": "2025-01-27T19:43:09.306809Z"
    }
   },
   "cell_type": "code",
   "source": [
    "\n",
    "# Instantiate models\n",
    "generator = Generator(input_dim=latent_dim, output_dim=data_dim).to(device)\n",
    "discriminator = Discriminator(input_dim=data_dim).to(device)\n",
    "\n",
    "# Define optimizers and loss function\n",
    "optimizer_g = optim.Adam(generator.parameters(), lr=lr)\n",
    "optimizer_d = optim.Adam(discriminator.parameters(), lr=lr)\n",
    "loss_fn = nn.BCELoss()\n",
    "\n"
   ],
   "id": "6e3029746035f3ec",
   "outputs": [],
   "execution_count": 14
  },
  {
   "metadata": {
    "ExecuteTime": {
     "end_time": "2025-01-27T19:52:34.327552Z",
     "start_time": "2025-01-27T19:43:31.757497Z"
    }
   },
   "cell_type": "code",
   "source": [
    "\n",
    "# Training Loop\n",
    "for epoch in range(epochs):\n",
    "    for real_batch, in data_loader:\n",
    "        real_batch = real_batch.to(device)\n",
    "        batch_size = real_batch.size(0)\n",
    "\n",
    "        # Train Discriminator\n",
    "        z = torch.randn(batch_size, latent_dim).to(device)\n",
    "        fake_data = generator(z)\n",
    "\n",
    "        real_labels = torch.ones(batch_size, 1).to(device)\n",
    "        fake_labels = torch.zeros(batch_size, 1).to(device)\n",
    "\n",
    "        d_real = discriminator(real_batch)\n",
    "        d_fake = discriminator(fake_data.detach())\n",
    "\n",
    "        d_loss_real = loss_fn(d_real, real_labels)\n",
    "        d_loss_fake = loss_fn(d_fake, fake_labels)\n",
    "        d_loss = d_loss_real + d_loss_fake\n",
    "\n",
    "        optimizer_d.zero_grad()\n",
    "        d_loss.backward()\n",
    "        optimizer_d.step()\n",
    "\n",
    "        # Train Generator\n",
    "        z = torch.randn(batch_size, latent_dim).to(device)\n",
    "        fake_data = generator(z)\n",
    "        g_loss = loss_fn(discriminator(fake_data), real_labels)\n",
    "\n",
    "        optimizer_g.zero_grad()\n",
    "        g_loss.backward()\n",
    "        optimizer_g.step()\n",
    "\n",
    "    # Print loss every 100 epochs\n",
    "    if epoch % 100 == 0:\n",
    "        print(f\"Epoch {epoch}, D Loss: {d_loss.item():.4f}, G Loss: {g_loss.item():.4f}\")"
   ],
   "id": "50f79d57d537b710",
   "outputs": [
    {
     "name": "stdout",
     "output_type": "stream",
     "text": [
      "Epoch 0, D Loss: 0.2438, G Loss: 2.4731\n",
      "Epoch 100, D Loss: 0.0000, G Loss: 19.9995\n"
     ]
    },
    {
     "ename": "KeyboardInterrupt",
     "evalue": "",
     "output_type": "error",
     "traceback": [
      "\u001B[1;31m---------------------------------------------------------------------------\u001B[0m",
      "\u001B[1;31mKeyboardInterrupt\u001B[0m                         Traceback (most recent call last)",
      "Cell \u001B[1;32mIn[15], line 22\u001B[0m\n\u001B[0;32m     19\u001B[0m d_loss \u001B[38;5;241m=\u001B[39m d_loss_real \u001B[38;5;241m+\u001B[39m d_loss_fake\n\u001B[0;32m     21\u001B[0m optimizer_d\u001B[38;5;241m.\u001B[39mzero_grad()\n\u001B[1;32m---> 22\u001B[0m \u001B[43md_loss\u001B[49m\u001B[38;5;241;43m.\u001B[39;49m\u001B[43mbackward\u001B[49m\u001B[43m(\u001B[49m\u001B[43m)\u001B[49m\n\u001B[0;32m     23\u001B[0m optimizer_d\u001B[38;5;241m.\u001B[39mstep()\n\u001B[0;32m     25\u001B[0m \u001B[38;5;66;03m# Train Generator\u001B[39;00m\n",
      "File \u001B[1;32m~\\miniconda3\\envs\\ds\\lib\\site-packages\\torch\\_tensor.py:581\u001B[0m, in \u001B[0;36mTensor.backward\u001B[1;34m(self, gradient, retain_graph, create_graph, inputs)\u001B[0m\n\u001B[0;32m    571\u001B[0m \u001B[38;5;28;01mif\u001B[39;00m has_torch_function_unary(\u001B[38;5;28mself\u001B[39m):\n\u001B[0;32m    572\u001B[0m     \u001B[38;5;28;01mreturn\u001B[39;00m handle_torch_function(\n\u001B[0;32m    573\u001B[0m         Tensor\u001B[38;5;241m.\u001B[39mbackward,\n\u001B[0;32m    574\u001B[0m         (\u001B[38;5;28mself\u001B[39m,),\n\u001B[1;32m   (...)\u001B[0m\n\u001B[0;32m    579\u001B[0m         inputs\u001B[38;5;241m=\u001B[39minputs,\n\u001B[0;32m    580\u001B[0m     )\n\u001B[1;32m--> 581\u001B[0m \u001B[43mtorch\u001B[49m\u001B[38;5;241;43m.\u001B[39;49m\u001B[43mautograd\u001B[49m\u001B[38;5;241;43m.\u001B[39;49m\u001B[43mbackward\u001B[49m\u001B[43m(\u001B[49m\n\u001B[0;32m    582\u001B[0m \u001B[43m    \u001B[49m\u001B[38;5;28;43mself\u001B[39;49m\u001B[43m,\u001B[49m\u001B[43m \u001B[49m\u001B[43mgradient\u001B[49m\u001B[43m,\u001B[49m\u001B[43m \u001B[49m\u001B[43mretain_graph\u001B[49m\u001B[43m,\u001B[49m\u001B[43m \u001B[49m\u001B[43mcreate_graph\u001B[49m\u001B[43m,\u001B[49m\u001B[43m \u001B[49m\u001B[43minputs\u001B[49m\u001B[38;5;241;43m=\u001B[39;49m\u001B[43minputs\u001B[49m\n\u001B[0;32m    583\u001B[0m \u001B[43m\u001B[49m\u001B[43m)\u001B[49m\n",
      "File \u001B[1;32m~\\miniconda3\\envs\\ds\\lib\\site-packages\\torch\\autograd\\__init__.py:347\u001B[0m, in \u001B[0;36mbackward\u001B[1;34m(tensors, grad_tensors, retain_graph, create_graph, grad_variables, inputs)\u001B[0m\n\u001B[0;32m    342\u001B[0m     retain_graph \u001B[38;5;241m=\u001B[39m create_graph\n\u001B[0;32m    344\u001B[0m \u001B[38;5;66;03m# The reason we repeat the same comment below is that\u001B[39;00m\n\u001B[0;32m    345\u001B[0m \u001B[38;5;66;03m# some Python versions print out the first line of a multi-line function\u001B[39;00m\n\u001B[0;32m    346\u001B[0m \u001B[38;5;66;03m# calls in the traceback and some print out the last line\u001B[39;00m\n\u001B[1;32m--> 347\u001B[0m \u001B[43m_engine_run_backward\u001B[49m\u001B[43m(\u001B[49m\n\u001B[0;32m    348\u001B[0m \u001B[43m    \u001B[49m\u001B[43mtensors\u001B[49m\u001B[43m,\u001B[49m\n\u001B[0;32m    349\u001B[0m \u001B[43m    \u001B[49m\u001B[43mgrad_tensors_\u001B[49m\u001B[43m,\u001B[49m\n\u001B[0;32m    350\u001B[0m \u001B[43m    \u001B[49m\u001B[43mretain_graph\u001B[49m\u001B[43m,\u001B[49m\n\u001B[0;32m    351\u001B[0m \u001B[43m    \u001B[49m\u001B[43mcreate_graph\u001B[49m\u001B[43m,\u001B[49m\n\u001B[0;32m    352\u001B[0m \u001B[43m    \u001B[49m\u001B[43minputs\u001B[49m\u001B[43m,\u001B[49m\n\u001B[0;32m    353\u001B[0m \u001B[43m    \u001B[49m\u001B[43mallow_unreachable\u001B[49m\u001B[38;5;241;43m=\u001B[39;49m\u001B[38;5;28;43;01mTrue\u001B[39;49;00m\u001B[43m,\u001B[49m\n\u001B[0;32m    354\u001B[0m \u001B[43m    \u001B[49m\u001B[43maccumulate_grad\u001B[49m\u001B[38;5;241;43m=\u001B[39;49m\u001B[38;5;28;43;01mTrue\u001B[39;49;00m\u001B[43m,\u001B[49m\n\u001B[0;32m    355\u001B[0m \u001B[43m\u001B[49m\u001B[43m)\u001B[49m\n",
      "File \u001B[1;32m~\\miniconda3\\envs\\ds\\lib\\site-packages\\torch\\autograd\\graph.py:825\u001B[0m, in \u001B[0;36m_engine_run_backward\u001B[1;34m(t_outputs, *args, **kwargs)\u001B[0m\n\u001B[0;32m    823\u001B[0m     unregister_hooks \u001B[38;5;241m=\u001B[39m _register_logging_hooks_on_whole_graph(t_outputs)\n\u001B[0;32m    824\u001B[0m \u001B[38;5;28;01mtry\u001B[39;00m:\n\u001B[1;32m--> 825\u001B[0m     \u001B[38;5;28;01mreturn\u001B[39;00m Variable\u001B[38;5;241m.\u001B[39m_execution_engine\u001B[38;5;241m.\u001B[39mrun_backward(  \u001B[38;5;66;03m# Calls into the C++ engine to run the backward pass\u001B[39;00m\n\u001B[0;32m    826\u001B[0m         t_outputs, \u001B[38;5;241m*\u001B[39margs, \u001B[38;5;241m*\u001B[39m\u001B[38;5;241m*\u001B[39mkwargs\n\u001B[0;32m    827\u001B[0m     )  \u001B[38;5;66;03m# Calls into the C++ engine to run the backward pass\u001B[39;00m\n\u001B[0;32m    828\u001B[0m \u001B[38;5;28;01mfinally\u001B[39;00m:\n\u001B[0;32m    829\u001B[0m     \u001B[38;5;28;01mif\u001B[39;00m attach_logging_hooks:\n",
      "\u001B[1;31mKeyboardInterrupt\u001B[0m: "
     ]
    }
   ],
   "execution_count": 15
  },
  {
   "metadata": {
    "ExecuteTime": {
     "end_time": "2025-01-27T19:52:45.669468Z",
     "start_time": "2025-01-27T19:52:45.644443Z"
    }
   },
   "cell_type": "code",
   "source": [
    "# Generate synthetic data\n",
    "z = torch.randn(1000, latent_dim).to(device)\n",
    "synthetic_data = generator(z).detach().cpu().numpy()\n",
    "\n",
    "# Decode the generated data\n",
    "# Split into categorical and numeric\n",
    "cat_synthetic = synthetic_data[:, :cat_data.shape[1]]\n",
    "num_synthetic = synthetic_data[:, cat_data.shape[1]:]\n",
    "\n",
    "# Decode categorical data\n",
    "cat_synthetic_decoded = ohe.inverse_transform(cat_synthetic)\n",
    "num_synthetic_decoded = scaler.inverse_transform(num_synthetic)\n",
    "\n",
    "# Combine results into a DataFrame\n",
    "synthetic_df = pd.DataFrame(num_synthetic_decoded, columns=num_columns_expanded).join(\n",
    "    pd.DataFrame(cat_synthetic_decoded, columns=cat_columns)\n",
    ")\n",
    "\n",
    "synthetic_df.to_csv(\"synthetic_census.csv\", index=False)"
   ],
   "id": "53b5b456a617687e",
   "outputs": [],
   "execution_count": 17
  },
  {
   "metadata": {
    "ExecuteTime": {
     "end_time": "2025-01-27T19:55:26.522107Z",
     "start_time": "2025-01-27T19:55:26.497586Z"
    }
   },
   "cell_type": "code",
   "source": [
    "\n",
    "print(\"Synthetic Data Sample:\")\n",
    "synthetic_df.shape\n",
    "synthetic_df"
   ],
   "id": "af7034840b615382",
   "outputs": [
    {
     "name": "stdout",
     "output_type": "stream",
     "text": [
      "Synthetic Data Sample:\n"
     ]
    },
    {
     "data": {
      "text/plain": [
       "           age        fnlwgt  education-num  capital-gain  capital-loss  \\\n",
       "0    57.759556  286444.96875       5.181427     88.306305      0.045228   \n",
       "1    57.630077  288280.28125       5.320496    130.893478      0.058223   \n",
       "2    59.936989  264911.46875       4.655873     32.699440      0.002211   \n",
       "3    59.129276  282049.96875       4.911891    103.870430      0.005044   \n",
       "4    57.530968  286471.84375       5.347731    181.059448      0.039062   \n",
       "..         ...           ...            ...           ...           ...   \n",
       "995  57.996986  298267.71875       5.486256    315.752808      0.056460   \n",
       "996  57.791504  290608.96875       5.375197    162.772964      0.035775   \n",
       "997  57.823540  287673.50000       5.331725    157.335922      0.034766   \n",
       "998  59.026642  271351.84375       4.931422     79.738762      0.009834   \n",
       "999  59.245407  271001.53125       4.893128     36.700691      0.003923   \n",
       "\n",
       "     hours-per-week workclass education marital-status     occupation  \\\n",
       "0         36.817223   Private       9th       Divorced  Other-service   \n",
       "1         37.187393   Private       9th       Divorced  Other-service   \n",
       "2         36.531822   Private       9th       Divorced  Other-service   \n",
       "3         36.767963   Private       9th       Divorced  Other-service   \n",
       "4         37.393661   Private       9th       Divorced  Other-service   \n",
       "..              ...       ...       ...            ...            ...   \n",
       "995       37.102989   Private       9th       Divorced  Other-service   \n",
       "996       37.192074   Private       9th       Divorced  Other-service   \n",
       "997       37.586899   Private       9th       Divorced  Other-service   \n",
       "998       37.059826   Private       9th       Divorced  Other-service   \n",
       "999       36.491261   Private       9th       Divorced  Other-service   \n",
       "\n",
       "      relationship   race     sex native-country  \n",
       "0    Not-in-family  White  Female  United-States  \n",
       "1    Not-in-family  White  Female  United-States  \n",
       "2    Not-in-family  White  Female  United-States  \n",
       "3    Not-in-family  White  Female  United-States  \n",
       "4    Not-in-family  White  Female  United-States  \n",
       "..             ...    ...     ...            ...  \n",
       "995  Not-in-family  White  Female  United-States  \n",
       "996  Not-in-family  White  Female  United-States  \n",
       "997  Not-in-family  White  Female  United-States  \n",
       "998  Not-in-family  White  Female  United-States  \n",
       "999  Not-in-family  White  Female  United-States  \n",
       "\n",
       "[1000 rows x 14 columns]"
      ],
      "text/html": [
       "<div>\n",
       "<style scoped>\n",
       "    .dataframe tbody tr th:only-of-type {\n",
       "        vertical-align: middle;\n",
       "    }\n",
       "\n",
       "    .dataframe tbody tr th {\n",
       "        vertical-align: top;\n",
       "    }\n",
       "\n",
       "    .dataframe thead th {\n",
       "        text-align: right;\n",
       "    }\n",
       "</style>\n",
       "<table border=\"1\" class=\"dataframe\">\n",
       "  <thead>\n",
       "    <tr style=\"text-align: right;\">\n",
       "      <th></th>\n",
       "      <th>age</th>\n",
       "      <th>fnlwgt</th>\n",
       "      <th>education-num</th>\n",
       "      <th>capital-gain</th>\n",
       "      <th>capital-loss</th>\n",
       "      <th>hours-per-week</th>\n",
       "      <th>workclass</th>\n",
       "      <th>education</th>\n",
       "      <th>marital-status</th>\n",
       "      <th>occupation</th>\n",
       "      <th>relationship</th>\n",
       "      <th>race</th>\n",
       "      <th>sex</th>\n",
       "      <th>native-country</th>\n",
       "    </tr>\n",
       "  </thead>\n",
       "  <tbody>\n",
       "    <tr>\n",
       "      <th>0</th>\n",
       "      <td>57.759556</td>\n",
       "      <td>286444.96875</td>\n",
       "      <td>5.181427</td>\n",
       "      <td>88.306305</td>\n",
       "      <td>0.045228</td>\n",
       "      <td>36.817223</td>\n",
       "      <td>Private</td>\n",
       "      <td>9th</td>\n",
       "      <td>Divorced</td>\n",
       "      <td>Other-service</td>\n",
       "      <td>Not-in-family</td>\n",
       "      <td>White</td>\n",
       "      <td>Female</td>\n",
       "      <td>United-States</td>\n",
       "    </tr>\n",
       "    <tr>\n",
       "      <th>1</th>\n",
       "      <td>57.630077</td>\n",
       "      <td>288280.28125</td>\n",
       "      <td>5.320496</td>\n",
       "      <td>130.893478</td>\n",
       "      <td>0.058223</td>\n",
       "      <td>37.187393</td>\n",
       "      <td>Private</td>\n",
       "      <td>9th</td>\n",
       "      <td>Divorced</td>\n",
       "      <td>Other-service</td>\n",
       "      <td>Not-in-family</td>\n",
       "      <td>White</td>\n",
       "      <td>Female</td>\n",
       "      <td>United-States</td>\n",
       "    </tr>\n",
       "    <tr>\n",
       "      <th>2</th>\n",
       "      <td>59.936989</td>\n",
       "      <td>264911.46875</td>\n",
       "      <td>4.655873</td>\n",
       "      <td>32.699440</td>\n",
       "      <td>0.002211</td>\n",
       "      <td>36.531822</td>\n",
       "      <td>Private</td>\n",
       "      <td>9th</td>\n",
       "      <td>Divorced</td>\n",
       "      <td>Other-service</td>\n",
       "      <td>Not-in-family</td>\n",
       "      <td>White</td>\n",
       "      <td>Female</td>\n",
       "      <td>United-States</td>\n",
       "    </tr>\n",
       "    <tr>\n",
       "      <th>3</th>\n",
       "      <td>59.129276</td>\n",
       "      <td>282049.96875</td>\n",
       "      <td>4.911891</td>\n",
       "      <td>103.870430</td>\n",
       "      <td>0.005044</td>\n",
       "      <td>36.767963</td>\n",
       "      <td>Private</td>\n",
       "      <td>9th</td>\n",
       "      <td>Divorced</td>\n",
       "      <td>Other-service</td>\n",
       "      <td>Not-in-family</td>\n",
       "      <td>White</td>\n",
       "      <td>Female</td>\n",
       "      <td>United-States</td>\n",
       "    </tr>\n",
       "    <tr>\n",
       "      <th>4</th>\n",
       "      <td>57.530968</td>\n",
       "      <td>286471.84375</td>\n",
       "      <td>5.347731</td>\n",
       "      <td>181.059448</td>\n",
       "      <td>0.039062</td>\n",
       "      <td>37.393661</td>\n",
       "      <td>Private</td>\n",
       "      <td>9th</td>\n",
       "      <td>Divorced</td>\n",
       "      <td>Other-service</td>\n",
       "      <td>Not-in-family</td>\n",
       "      <td>White</td>\n",
       "      <td>Female</td>\n",
       "      <td>United-States</td>\n",
       "    </tr>\n",
       "    <tr>\n",
       "      <th>...</th>\n",
       "      <td>...</td>\n",
       "      <td>...</td>\n",
       "      <td>...</td>\n",
       "      <td>...</td>\n",
       "      <td>...</td>\n",
       "      <td>...</td>\n",
       "      <td>...</td>\n",
       "      <td>...</td>\n",
       "      <td>...</td>\n",
       "      <td>...</td>\n",
       "      <td>...</td>\n",
       "      <td>...</td>\n",
       "      <td>...</td>\n",
       "      <td>...</td>\n",
       "    </tr>\n",
       "    <tr>\n",
       "      <th>995</th>\n",
       "      <td>57.996986</td>\n",
       "      <td>298267.71875</td>\n",
       "      <td>5.486256</td>\n",
       "      <td>315.752808</td>\n",
       "      <td>0.056460</td>\n",
       "      <td>37.102989</td>\n",
       "      <td>Private</td>\n",
       "      <td>9th</td>\n",
       "      <td>Divorced</td>\n",
       "      <td>Other-service</td>\n",
       "      <td>Not-in-family</td>\n",
       "      <td>White</td>\n",
       "      <td>Female</td>\n",
       "      <td>United-States</td>\n",
       "    </tr>\n",
       "    <tr>\n",
       "      <th>996</th>\n",
       "      <td>57.791504</td>\n",
       "      <td>290608.96875</td>\n",
       "      <td>5.375197</td>\n",
       "      <td>162.772964</td>\n",
       "      <td>0.035775</td>\n",
       "      <td>37.192074</td>\n",
       "      <td>Private</td>\n",
       "      <td>9th</td>\n",
       "      <td>Divorced</td>\n",
       "      <td>Other-service</td>\n",
       "      <td>Not-in-family</td>\n",
       "      <td>White</td>\n",
       "      <td>Female</td>\n",
       "      <td>United-States</td>\n",
       "    </tr>\n",
       "    <tr>\n",
       "      <th>997</th>\n",
       "      <td>57.823540</td>\n",
       "      <td>287673.50000</td>\n",
       "      <td>5.331725</td>\n",
       "      <td>157.335922</td>\n",
       "      <td>0.034766</td>\n",
       "      <td>37.586899</td>\n",
       "      <td>Private</td>\n",
       "      <td>9th</td>\n",
       "      <td>Divorced</td>\n",
       "      <td>Other-service</td>\n",
       "      <td>Not-in-family</td>\n",
       "      <td>White</td>\n",
       "      <td>Female</td>\n",
       "      <td>United-States</td>\n",
       "    </tr>\n",
       "    <tr>\n",
       "      <th>998</th>\n",
       "      <td>59.026642</td>\n",
       "      <td>271351.84375</td>\n",
       "      <td>4.931422</td>\n",
       "      <td>79.738762</td>\n",
       "      <td>0.009834</td>\n",
       "      <td>37.059826</td>\n",
       "      <td>Private</td>\n",
       "      <td>9th</td>\n",
       "      <td>Divorced</td>\n",
       "      <td>Other-service</td>\n",
       "      <td>Not-in-family</td>\n",
       "      <td>White</td>\n",
       "      <td>Female</td>\n",
       "      <td>United-States</td>\n",
       "    </tr>\n",
       "    <tr>\n",
       "      <th>999</th>\n",
       "      <td>59.245407</td>\n",
       "      <td>271001.53125</td>\n",
       "      <td>4.893128</td>\n",
       "      <td>36.700691</td>\n",
       "      <td>0.003923</td>\n",
       "      <td>36.491261</td>\n",
       "      <td>Private</td>\n",
       "      <td>9th</td>\n",
       "      <td>Divorced</td>\n",
       "      <td>Other-service</td>\n",
       "      <td>Not-in-family</td>\n",
       "      <td>White</td>\n",
       "      <td>Female</td>\n",
       "      <td>United-States</td>\n",
       "    </tr>\n",
       "  </tbody>\n",
       "</table>\n",
       "<p>1000 rows × 14 columns</p>\n",
       "</div>"
      ]
     },
     "execution_count": 21,
     "metadata": {},
     "output_type": "execute_result"
    }
   ],
   "execution_count": 21
  }
 ],
 "metadata": {
  "kernelspec": {
   "display_name": "Python 3",
   "language": "python",
   "name": "python3"
  },
  "language_info": {
   "codemirror_mode": {
    "name": "ipython",
    "version": 2
   },
   "file_extension": ".py",
   "mimetype": "text/x-python",
   "name": "python",
   "nbconvert_exporter": "python",
   "pygments_lexer": "ipython2",
   "version": "2.7.6"
  }
 },
 "nbformat": 4,
 "nbformat_minor": 5
}
