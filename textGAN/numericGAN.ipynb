{
 "cells": [
  {
   "cell_type": "code",
   "id": "initial_id",
   "metadata": {
    "collapsed": true,
    "ExecuteTime": {
     "end_time": "2025-01-27T20:05:08.126443Z",
     "start_time": "2025-01-27T20:05:07.865216Z"
    }
   },
   "source": [
    "import torch\n",
    "import torch.nn as nn\n",
    "import torch.optim as optim\n",
    "from torch.utils.data import DataLoader, TensorDataset\n",
    "from sklearn.datasets import load_iris\n",
    "from sklearn.preprocessing import MinMaxScaler\n",
    "from numericGAN import Generator, Discriminator\n",
    "import pandas as pd"
   ],
   "outputs": [],
   "execution_count": 8
  },
  {
   "metadata": {
    "ExecuteTime": {
     "end_time": "2025-01-27T20:03:48.896975Z",
     "start_time": "2025-01-27T20:03:48.838965Z"
    }
   },
   "cell_type": "code",
   "source": [
    "\n",
    "# Load and preprocess the Iris dataset using sklearn\n",
    "iris = load_iris()\n",
    "data = iris.data  # Only use features (shape: (150, 4))\n",
    "\n",
    "# Normalize the dataset\n",
    "scaler = MinMaxScaler()\n",
    "data = scaler.fit_transform(data)\n",
    "data = torch.tensor(data, dtype=torch.float32)\n",
    "\n",
    "# GAN training parameters\n",
    "device = torch.device('cuda' if torch.cuda.is_available() else 'cpu')\n",
    "latent_dim = 10  # Latent space dimensionality\n",
    "data_dim = data.shape[1]  # Number of features\n",
    "batch_size = 32\n",
    "epochs = 200\n",
    "lr = 0.0002\n",
    "\n",
    "# Create DataLoader\n",
    "data_loader = DataLoader(TensorDataset(data), batch_size=batch_size, shuffle=True)\n",
    "\n",
    "# "
   ],
   "id": "d45e5b68194f38ab",
   "outputs": [],
   "execution_count": 2
  },
  {
   "metadata": {
    "ExecuteTime": {
     "end_time": "2025-01-27T20:03:53.709226Z",
     "start_time": "2025-01-27T20:03:52.545007Z"
    }
   },
   "cell_type": "code",
   "source": [
    "generator = Generator(input_dim=latent_dim, output_dim=data_dim).to(device)\n",
    "discriminator = Discriminator(input_dim=data_dim).to(device)\n",
    "\n",
    "# Define optimizers and loss function\n",
    "optimizer_g = optim.Adam(generator.parameters(), lr=lr)\n",
    "optimizer_d = optim.Adam(discriminator.parameters(), lr=lr)\n",
    "loss_fn = nn.BCELoss()\n"
   ],
   "id": "e9ab72e5a562e092",
   "outputs": [],
   "execution_count": 3
  },
  {
   "metadata": {
    "ExecuteTime": {
     "end_time": "2025-01-27T20:04:04.368508Z",
     "start_time": "2025-01-27T20:03:59.848851Z"
    }
   },
   "cell_type": "code",
   "source": [
    "\n",
    "\n",
    "# Training loop\n",
    "for epoch in range(epochs):\n",
    "    for real_batch, in data_loader:\n",
    "        real_batch = real_batch.to(device)\n",
    "        batch_size = real_batch.size(0)\n",
    "\n",
    "        # Train discriminator\n",
    "        z = torch.randn(batch_size, latent_dim).to(device)\n",
    "        fake_data = generator(z)\n",
    "\n",
    "        real_labels = torch.ones(batch_size, 1).to(device)\n",
    "        fake_labels = torch.zeros(batch_size, 1).to(device)\n",
    "\n",
    "        d_real = discriminator(real_batch)\n",
    "        d_fake = discriminator(fake_data.detach())\n",
    "\n",
    "        d_loss_real = loss_fn(d_real, real_labels)\n",
    "        d_loss_fake = loss_fn(d_fake, fake_labels)\n",
    "        d_loss = d_loss_real + d_loss_fake\n",
    "\n",
    "        optimizer_d.zero_grad()\n",
    "        d_loss.backward()\n",
    "        optimizer_d.step()\n",
    "\n",
    "        # Train generator\n",
    "        z = torch.randn(batch_size, latent_dim).to(device)\n",
    "        fake_data = generator(z)\n",
    "        g_loss = loss_fn(discriminator(fake_data), real_labels)\n",
    "\n",
    "        optimizer_g.zero_grad()\n",
    "        g_loss.backward()\n",
    "        optimizer_g.step()\n",
    "\n",
    "    # Print loss every 100 epochs\n",
    "    if epoch % 100 == 0:\n",
    "        print(f\"Epoch {epoch}, D Loss: {d_loss.item():.4f}, G Loss: {g_loss.item():.4f}\")\n",
    "\n"
   ],
   "id": "5c01729893e3c0c7",
   "outputs": [
    {
     "name": "stdout",
     "output_type": "stream",
     "text": [
      "Epoch 0, D Loss: 1.4312, G Loss: 0.7871\n",
      "Epoch 100, D Loss: 1.3525, G Loss: 0.7272\n"
     ]
    }
   ],
   "execution_count": 5
  },
  {
   "metadata": {
    "ExecuteTime": {
     "end_time": "2025-01-27T20:05:11.744482Z",
     "start_time": "2025-01-27T20:05:11.723643Z"
    }
   },
   "cell_type": "code",
   "source": [
    "z = torch.randn(150, latent_dim).to(device)  # Generate the same number of samples as the Iris dataset\n",
    "synthetic_data = generator(z).detach().cpu().numpy()\n",
    "synthetic_data = scaler.inverse_transform(synthetic_data)  # Rescale back to the original range\n",
    "\n",
    "synthetic_pd = pd.DataFrame(synthetic_data)\n",
    "synthetic_pd.to_csv(\"synthetic_iris.csv\", index=False)\n"
   ],
   "id": "be0e80c833b92558",
   "outputs": [],
   "execution_count": 9
  },
  {
   "metadata": {
    "ExecuteTime": {
     "end_time": "2025-01-27T20:06:48.229481Z",
     "start_time": "2025-01-27T20:06:48.203464Z"
    }
   },
   "cell_type": "code",
   "source": "synthetic_pd",
   "id": "376902a1d6da351a",
   "outputs": [
    {
     "data": {
      "text/plain": [
       "            0         1         2         3\n",
       "0    5.893703  2.877456  5.363830  1.632013\n",
       "1    5.488304  2.606469  4.206050  1.247747\n",
       "2    6.078844  2.821317  5.679056  1.616346\n",
       "3    5.547008  2.622879  4.397995  1.274534\n",
       "4    5.511443  2.669280  4.176014  1.244989\n",
       "..        ...       ...       ...       ...\n",
       "145  5.844644  2.702477  4.847985  1.495224\n",
       "146  5.599219  2.663075  4.415401  1.178625\n",
       "147  5.307764  2.549189  3.974720  1.164996\n",
       "148  5.287980  2.597840  3.942684  1.118822\n",
       "149  5.294544  2.545915  3.887898  1.123947\n",
       "\n",
       "[150 rows x 4 columns]"
      ],
      "text/html": [
       "<div>\n",
       "<style scoped>\n",
       "    .dataframe tbody tr th:only-of-type {\n",
       "        vertical-align: middle;\n",
       "    }\n",
       "\n",
       "    .dataframe tbody tr th {\n",
       "        vertical-align: top;\n",
       "    }\n",
       "\n",
       "    .dataframe thead th {\n",
       "        text-align: right;\n",
       "    }\n",
       "</style>\n",
       "<table border=\"1\" class=\"dataframe\">\n",
       "  <thead>\n",
       "    <tr style=\"text-align: right;\">\n",
       "      <th></th>\n",
       "      <th>0</th>\n",
       "      <th>1</th>\n",
       "      <th>2</th>\n",
       "      <th>3</th>\n",
       "    </tr>\n",
       "  </thead>\n",
       "  <tbody>\n",
       "    <tr>\n",
       "      <th>0</th>\n",
       "      <td>5.893703</td>\n",
       "      <td>2.877456</td>\n",
       "      <td>5.363830</td>\n",
       "      <td>1.632013</td>\n",
       "    </tr>\n",
       "    <tr>\n",
       "      <th>1</th>\n",
       "      <td>5.488304</td>\n",
       "      <td>2.606469</td>\n",
       "      <td>4.206050</td>\n",
       "      <td>1.247747</td>\n",
       "    </tr>\n",
       "    <tr>\n",
       "      <th>2</th>\n",
       "      <td>6.078844</td>\n",
       "      <td>2.821317</td>\n",
       "      <td>5.679056</td>\n",
       "      <td>1.616346</td>\n",
       "    </tr>\n",
       "    <tr>\n",
       "      <th>3</th>\n",
       "      <td>5.547008</td>\n",
       "      <td>2.622879</td>\n",
       "      <td>4.397995</td>\n",
       "      <td>1.274534</td>\n",
       "    </tr>\n",
       "    <tr>\n",
       "      <th>4</th>\n",
       "      <td>5.511443</td>\n",
       "      <td>2.669280</td>\n",
       "      <td>4.176014</td>\n",
       "      <td>1.244989</td>\n",
       "    </tr>\n",
       "    <tr>\n",
       "      <th>...</th>\n",
       "      <td>...</td>\n",
       "      <td>...</td>\n",
       "      <td>...</td>\n",
       "      <td>...</td>\n",
       "    </tr>\n",
       "    <tr>\n",
       "      <th>145</th>\n",
       "      <td>5.844644</td>\n",
       "      <td>2.702477</td>\n",
       "      <td>4.847985</td>\n",
       "      <td>1.495224</td>\n",
       "    </tr>\n",
       "    <tr>\n",
       "      <th>146</th>\n",
       "      <td>5.599219</td>\n",
       "      <td>2.663075</td>\n",
       "      <td>4.415401</td>\n",
       "      <td>1.178625</td>\n",
       "    </tr>\n",
       "    <tr>\n",
       "      <th>147</th>\n",
       "      <td>5.307764</td>\n",
       "      <td>2.549189</td>\n",
       "      <td>3.974720</td>\n",
       "      <td>1.164996</td>\n",
       "    </tr>\n",
       "    <tr>\n",
       "      <th>148</th>\n",
       "      <td>5.287980</td>\n",
       "      <td>2.597840</td>\n",
       "      <td>3.942684</td>\n",
       "      <td>1.118822</td>\n",
       "    </tr>\n",
       "    <tr>\n",
       "      <th>149</th>\n",
       "      <td>5.294544</td>\n",
       "      <td>2.545915</td>\n",
       "      <td>3.887898</td>\n",
       "      <td>1.123947</td>\n",
       "    </tr>\n",
       "  </tbody>\n",
       "</table>\n",
       "<p>150 rows × 4 columns</p>\n",
       "</div>"
      ]
     },
     "execution_count": 10,
     "metadata": {},
     "output_type": "execute_result"
    }
   ],
   "execution_count": 10
  }
 ],
 "metadata": {
  "kernelspec": {
   "display_name": "Python 3",
   "language": "python",
   "name": "python3"
  },
  "language_info": {
   "codemirror_mode": {
    "name": "ipython",
    "version": 2
   },
   "file_extension": ".py",
   "mimetype": "text/x-python",
   "name": "python",
   "nbconvert_exporter": "python",
   "pygments_lexer": "ipython2",
   "version": "2.7.6"
  }
 },
 "nbformat": 4,
 "nbformat_minor": 5
}
